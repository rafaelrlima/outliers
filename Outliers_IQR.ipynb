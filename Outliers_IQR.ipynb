{
 "cells": [
  {
   "cell_type": "markdown",
   "id": "4ce22b0c",
   "metadata": {},
   "source": [
    "# Removendo Outliers\n",
    "\n",
    "#### Método IQR (Variação Interquartil)"
   ]
  },
  {
   "cell_type": "code",
   "execution_count": 1,
   "id": "48ae5165",
   "metadata": {},
   "outputs": [],
   "source": [
    "# Importando as bibliotecas necessárias\n",
    "import pandas as pd\n",
    "import numpy as np\n",
    "import seaborn as sns\n",
    "import matplotlib.pyplot as plt"
   ]
  },
  {
   "cell_type": "code",
   "execution_count": 2,
   "id": "7d90d5f4",
   "metadata": {},
   "outputs": [
    {
     "data": {
      "text/plain": [
       "0       29\n",
       "1       27\n",
       "2       33\n",
       "3       31\n",
       "4       29\n",
       "5       30\n",
       "6       34\n",
       "7        1\n",
       "8        1\n",
       "9      100\n",
       "10    1000\n",
       "dtype: int64"
      ]
     },
     "execution_count": 2,
     "metadata": {},
     "output_type": "execute_result"
    }
   ],
   "source": [
    "# Gerando valores\n",
    "Dados = pd.Series([29, 27, 33, 31, 29, 30, 34, 1, 1, 100, 1000])\n",
    "pd.DataFrame\n",
    "Dados"
   ]
  },
  {
   "cell_type": "code",
   "execution_count": 3,
   "id": "baa637dd",
   "metadata": {},
   "outputs": [
    {
     "data": {
      "text/plain": [
       "<AxesSubplot:>"
      ]
     },
     "execution_count": 3,
     "metadata": {},
     "output_type": "execute_result"
    },
    {
     "data": {
      "image/png": "[encoded data removed]",
      "text/plain": [
       "<Figure size 432x432 with 1 Axes>"
      ]
     },
     "metadata": {
      "needs_background": "light"
     },
     "output_type": "display_data"
    }
   ],
   "source": [
    "# Plotando Boxplot para demostrar a presença dos Outliers\n",
    "plt.figure(figsize=(6,6))\n",
    "sns.boxplot(y=Dados)"
   ]
  },
  {
   "cell_type": "code",
   "execution_count": 4,
   "id": "d8903ab6",
   "metadata": {},
   "outputs": [
    {
     "data": {
      "text/plain": [
       "count      11.000000\n",
       "mean      119.545455\n",
       "std       293.141046\n",
       "min         1.000000\n",
       "25%        28.000000\n",
       "50%        30.000000\n",
       "75%        33.500000\n",
       "max      1000.000000\n",
       "dtype: float64"
      ]
     },
     "execution_count": 4,
     "metadata": {},
     "output_type": "execute_result"
    }
   ],
   "source": [
    "# Lendo os dados estatísticos e colocando-os em uma variável\n",
    "Dados_Estatistico = Dados.describe()\n",
    "Dados_Estatistico"
   ]
  },
  {
   "cell_type": "code",
   "execution_count": 5,
   "id": "664cff45",
   "metadata": {},
   "outputs": [
    {
     "data": {
      "text/html": [
       "<div>\n",
       "<style scoped>\n",
       "    .dataframe tbody tr th:only-of-type {\n",
       "        vertical-align: middle;\n",
       "    }\n",
       "\n",
       "    .dataframe tbody tr th {\n",
       "        vertical-align: top;\n",
       "    }\n",
       "\n",
       "    .dataframe thead th {\n",
       "        text-align: right;\n",
       "    }\n",
       "</style>\n",
       "<table border=\"1\" class=\"dataframe\">\n",
       "  <thead>\n",
       "    <tr style=\"text-align: right;\">\n",
       "      <th></th>\n",
       "      <th>0</th>\n",
       "    </tr>\n",
       "  </thead>\n",
       "  <tbody>\n",
       "    <tr>\n",
       "      <th>count</th>\n",
       "      <td>11.000000</td>\n",
       "    </tr>\n",
       "    <tr>\n",
       "      <th>mean</th>\n",
       "      <td>119.545455</td>\n",
       "    </tr>\n",
       "    <tr>\n",
       "      <th>std</th>\n",
       "      <td>293.141046</td>\n",
       "    </tr>\n",
       "    <tr>\n",
       "      <th>min</th>\n",
       "      <td>1.000000</td>\n",
       "    </tr>\n",
       "    <tr>\n",
       "      <th>25%</th>\n",
       "      <td>28.000000</td>\n",
       "    </tr>\n",
       "    <tr>\n",
       "      <th>50%</th>\n",
       "      <td>30.000000</td>\n",
       "    </tr>\n",
       "    <tr>\n",
       "      <th>75%</th>\n",
       "      <td>33.500000</td>\n",
       "    </tr>\n",
       "    <tr>\n",
       "      <th>max</th>\n",
       "      <td>1000.000000</td>\n",
       "    </tr>\n",
       "  </tbody>\n",
       "</table>\n",
       "</div>"
      ],
      "text/plain": [
       "                 0\n",
       "count    11.000000\n",
       "mean    119.545455\n",
       "std     293.141046\n",
       "min       1.000000\n",
       "25%      28.000000\n",
       "50%      30.000000\n",
       "75%      33.500000\n",
       "max    1000.000000"
      ]
     },
     "execution_count": 5,
     "metadata": {},
     "output_type": "execute_result"
    }
   ],
   "source": [
    "# Transformandp dados estatísticos em um dataframe\n",
    "Analise = pd.DataFrame(Dados_Estatistico)\n",
    "Analise"
   ]
  },
  {
   "cell_type": "code",
   "execution_count": 6,
   "id": "780e5de1",
   "metadata": {},
   "outputs": [
    {
     "data": {
      "text/html": [
       "<div>\n",
       "<style scoped>\n",
       "    .dataframe tbody tr th:only-of-type {\n",
       "        vertical-align: middle;\n",
       "    }\n",
       "\n",
       "    .dataframe tbody tr th {\n",
       "        vertical-align: top;\n",
       "    }\n",
       "\n",
       "    .dataframe thead th {\n",
       "        text-align: right;\n",
       "    }\n",
       "</style>\n",
       "<table border=\"1\" class=\"dataframe\">\n",
       "  <thead>\n",
       "    <tr style=\"text-align: right;\">\n",
       "      <th></th>\n",
       "      <th>Dados Estatisticos</th>\n",
       "    </tr>\n",
       "  </thead>\n",
       "  <tbody>\n",
       "    <tr>\n",
       "      <th>count</th>\n",
       "      <td>11.000000</td>\n",
       "    </tr>\n",
       "    <tr>\n",
       "      <th>mean</th>\n",
       "      <td>119.545455</td>\n",
       "    </tr>\n",
       "    <tr>\n",
       "      <th>std</th>\n",
       "      <td>293.141046</td>\n",
       "    </tr>\n",
       "    <tr>\n",
       "      <th>min</th>\n",
       "      <td>1.000000</td>\n",
       "    </tr>\n",
       "    <tr>\n",
       "      <th>25%</th>\n",
       "      <td>28.000000</td>\n",
       "    </tr>\n",
       "    <tr>\n",
       "      <th>50%</th>\n",
       "      <td>30.000000</td>\n",
       "    </tr>\n",
       "    <tr>\n",
       "      <th>75%</th>\n",
       "      <td>33.500000</td>\n",
       "    </tr>\n",
       "    <tr>\n",
       "      <th>max</th>\n",
       "      <td>1000.000000</td>\n",
       "    </tr>\n",
       "  </tbody>\n",
       "</table>\n",
       "</div>"
      ],
      "text/plain": [
       "       Dados Estatisticos\n",
       "count           11.000000\n",
       "mean           119.545455\n",
       "std            293.141046\n",
       "min              1.000000\n",
       "25%             28.000000\n",
       "50%             30.000000\n",
       "75%             33.500000\n",
       "max           1000.000000"
      ]
     },
     "execution_count": 6,
     "metadata": {},
     "output_type": "execute_result"
    }
   ],
   "source": [
    "Analise.rename(columns={0:'Dados Estatisticos'}, inplace=True)\n",
    "Analise"
   ]
  },
  {
   "cell_type": "code",
   "execution_count": 7,
   "id": "e642afc7",
   "metadata": {},
   "outputs": [
    {
     "data": {
      "text/plain": [
       "28.0"
      ]
     },
     "execution_count": 7,
     "metadata": {},
     "output_type": "execute_result"
    }
   ],
   "source": [
    "# Identificar primeiro quartil\n",
    "Q1 = np.percentile(Dados, 25)\n",
    "Q1"
   ]
  },
  {
   "cell_type": "code",
   "execution_count": 8,
   "id": "6073ae16",
   "metadata": {},
   "outputs": [
    {
     "data": {
      "text/plain": [
       "33.5"
      ]
     },
     "execution_count": 8,
     "metadata": {},
     "output_type": "execute_result"
    }
   ],
   "source": [
    "# Identificar terceiro quartil\n",
    "Q3 = np.percentile(Dados, 75)\n",
    "Q3"
   ]
  },
  {
   "cell_type": "code",
   "execution_count": 9,
   "id": "a0267d50",
   "metadata": {},
   "outputs": [
    {
     "data": {
      "text/plain": [
       "5.5"
      ]
     },
     "execution_count": 9,
     "metadata": {},
     "output_type": "execute_result"
    }
   ],
   "source": [
    "# Calculo do IRQ (Variação interquartil)\n",
    "IQR = Q3 - Q1\n",
    "IQR"
   ]
  },
  {
   "cell_type": "code",
   "execution_count": 10,
   "id": "3124768b",
   "metadata": {},
   "outputs": [],
   "source": [
    "# Calcular a linha de corte\n",
    "Corte = IQR * 1.5"
   ]
  },
  {
   "cell_type": "code",
   "execution_count": 11,
   "id": "bc762f1d",
   "metadata": {},
   "outputs": [
    {
     "data": {
      "text/plain": [
       "19.75"
      ]
     },
     "execution_count": 11,
     "metadata": {},
     "output_type": "execute_result"
    }
   ],
   "source": [
    "# Calcular os extremos Menor\n",
    "Menor = Q1 - Corte\n",
    "Menor"
   ]
  },
  {
   "cell_type": "code",
   "execution_count": 12,
   "id": "a93cb9aa",
   "metadata": {},
   "outputs": [
    {
     "data": {
      "text/plain": [
       "41.75"
      ]
     },
     "execution_count": 12,
     "metadata": {},
     "output_type": "execute_result"
    }
   ],
   "source": [
    "# Calcular os extremos Maior\n",
    "Maior = Q3 + Corte\n",
    "Maior"
   ]
  },
  {
   "cell_type": "code",
   "execution_count": 13,
   "id": "e48ff5c6",
   "metadata": {},
   "outputs": [
    {
     "data": {
      "text/plain": [
       "Int64Index([7, 8, 9, 10], dtype='int64')"
      ]
     },
     "execution_count": 13,
     "metadata": {},
     "output_type": "execute_result"
    }
   ],
   "source": [
    "# Identificando os valores foa do cojunto de dados\n",
    "Outliers = Dados[(Dados<Menor) | (Dados>Maior)].index\n",
    "Outliers"
   ]
  },
  {
   "cell_type": "code",
   "execution_count": 14,
   "id": "f993d104",
   "metadata": {},
   "outputs": [
    {
     "data": {
      "text/plain": [
       "0    29\n",
       "1    27\n",
       "2    33\n",
       "3    31\n",
       "4    29\n",
       "5    30\n",
       "6    34\n",
       "dtype: int64"
      ]
     },
     "execution_count": 14,
     "metadata": {},
     "output_type": "execute_result"
    }
   ],
   "source": [
    "# Removendo os valores que foram identificados como outliers\n",
    "Dados_Sem_Outliers = Dados.drop(Outliers)\n",
    "Dados_Sem_Outliers"
   ]
  },
  {
   "cell_type": "code",
   "execution_count": 15,
   "id": "e135e28a",
   "metadata": {},
   "outputs": [
    {
     "data": {
      "text/plain": [
       "<AxesSubplot:>"
      ]
     },
     "execution_count": 15,
     "metadata": {},
     "output_type": "execute_result"
    },
    {
     "data": {
      "image/png": "[encoded data removed]",
      "text/plain": [
       "<Figure size 432x432 with 1 Axes>"
      ]
     },
     "metadata": {
      "needs_background": "light"
     },
     "output_type": "display_data"
    }
   ],
   "source": [
    "# Plotando o conjunto sem outliers\n",
    "plt.figure(figsize=(6,6))\n",
    "sns.boxplot(y=Dados_Sem_Outliers)"
   ]
  }
 ],
 "metadata": {
  "kernelspec": {
   "display_name": "Python 3",
   "language": "python",
   "name": "python3"
  },
  "language_info": {
   "codemirror_mode": {
    "name": "ipython",
    "version": 3
   },
   "file_extension": ".py",
   "mimetype": "text/x-python",
   "name": "python",
   "nbconvert_exporter": "python",
   "pygments_lexer": "ipython3",
   "version": "3.7.9"
  }
 },
 "nbformat": 4,
 "nbformat_minor": 5
}
